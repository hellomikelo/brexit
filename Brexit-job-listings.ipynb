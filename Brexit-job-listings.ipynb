{
 "cells": [
  {
   "cell_type": "code",
   "execution_count": 86,
   "metadata": {},
   "outputs": [],
   "source": [
    "from sklearn.datasets import load_boston\n",
    "import pandas as pd\n",
    "import numpy as np\n",
    "import matplotlib.pyplot as plt\n",
    "from sklearn.metrics import mean_squared_error\n",
    "from sklearn.model_selection import train_test_split\n",
    "import xgboost as xgb\n",
    "import seaborn as sns\n",
    "import os\n",
    "import matplotlib.colors\n",
    "\n",
    "from geopy.geocoders import Nominatim # module to convert an address into latitude and longitude values\n",
    "# !conda install -q -c conda-forge folium=0.5.0 --yes # uncomment if library not installed\n",
    "import folium\n",
    "# !pip install -q python-zillow # uncomment if library not installed\n",
    "# import zillow\n",
    "# !pip install -q shapely # uncomment if library not installed\n",
    "# from shapely.geometry import shape, Point\n",
    "import json\n",
    "from matplotlib import cm\n"
   ]
  },
  {
   "cell_type": "code",
   "execution_count": 2,
   "metadata": {},
   "outputs": [
    {
     "name": "stdout",
     "output_type": "stream",
     "text": [
      "Code Legends\t\t      job_listings.csv\r\n",
      "_DS_Store\t\t      labor_market_statistics.csv\r\n",
      "employment_by_occupation.csv  lse_historical_data.csv\r\n",
      "immigrant_statistics.csv      uk_bill_data.csv\r\n"
     ]
    }
   ],
   "source": [
    "!ls ../Datasets/"
   ]
  },
  {
   "cell_type": "code",
   "execution_count": 291,
   "metadata": {
    "scrolled": true
   },
   "outputs": [
    {
     "name": "stderr",
     "output_type": "stream",
     "text": [
      "/u/home/y/y1lo/project-miao/.conda/envs/pandas/lib/python3.7/site-packages/IPython/core/interactiveshell.py:3058: DtypeWarning: Columns (7,15,16) have mixed types. Specify dtype option on import or set low_memory=False.\n",
      "  interactivity=interactivity, compiler=compiler, result=result)\n"
     ]
    },
    {
     "data": {
      "text/html": [
       "<div>\n",
       "<style scoped>\n",
       "    .dataframe tbody tr th:only-of-type {\n",
       "        vertical-align: middle;\n",
       "    }\n",
       "\n",
       "    .dataframe tbody tr th {\n",
       "        vertical-align: top;\n",
       "    }\n",
       "\n",
       "    .dataframe thead th {\n",
       "        text-align: right;\n",
       "    }\n",
       "</style>\n",
       "<table border=\"1\" class=\"dataframe\">\n",
       "  <thead>\n",
       "    <tr style=\"text-align: right;\">\n",
       "      <th></th>\n",
       "      <th>city</th>\n",
       "      <th>region</th>\n",
       "      <th>zip</th>\n",
       "      <th>delete_date</th>\n",
       "      <th>onet_occupation_code</th>\n",
       "      <th>SOC_occupation_code</th>\n",
       "      <th>t_delta</th>\n",
       "      <th>year</th>\n",
       "      <th>onet_fam</th>\n",
       "    </tr>\n",
       "    <tr>\n",
       "      <th>created</th>\n",
       "      <th></th>\n",
       "      <th></th>\n",
       "      <th></th>\n",
       "      <th></th>\n",
       "      <th></th>\n",
       "      <th></th>\n",
       "      <th></th>\n",
       "      <th></th>\n",
       "      <th></th>\n",
       "    </tr>\n",
       "  </thead>\n",
       "  <tbody>\n",
       "    <tr>\n",
       "      <th>2014-12-10 12:36:33+00:00</th>\n",
       "      <td>Aberdeen</td>\n",
       "      <td>Scotland</td>\n",
       "      <td>AB25</td>\n",
       "      <td>2014-12-16 15:58:17+00:00</td>\n",
       "      <td>51-8013.00</td>\n",
       "      <td>8124</td>\n",
       "      <td>6.0</td>\n",
       "      <td>2014</td>\n",
       "      <td>51</td>\n",
       "    </tr>\n",
       "    <tr>\n",
       "      <th>2017-07-05 00:46:00+00:00</th>\n",
       "      <td>London</td>\n",
       "      <td>England</td>\n",
       "      <td>SW1A</td>\n",
       "      <td>2017-09-24 13:03:55+00:00</td>\n",
       "      <td>37-2021.00</td>\n",
       "      <td>6132</td>\n",
       "      <td>81.0</td>\n",
       "      <td>2017</td>\n",
       "      <td>37</td>\n",
       "    </tr>\n",
       "    <tr>\n",
       "      <th>2018-05-21 00:42:00+00:00</th>\n",
       "      <td>NaN</td>\n",
       "      <td>NaN</td>\n",
       "      <td>NaN</td>\n",
       "      <td>2018-06-12 09:56:00+00:00</td>\n",
       "      <td>99-9999.00</td>\n",
       "      <td>9999</td>\n",
       "      <td>22.0</td>\n",
       "      <td>2018</td>\n",
       "      <td>99</td>\n",
       "    </tr>\n",
       "    <tr>\n",
       "      <th>2017-11-02 19:51:00+00:00</th>\n",
       "      <td>Cambridge</td>\n",
       "      <td>England</td>\n",
       "      <td>NaN</td>\n",
       "      <td>2017-12-09 02:56:58+00:00</td>\n",
       "      <td>37-2021.00</td>\n",
       "      <td>6132</td>\n",
       "      <td>36.0</td>\n",
       "      <td>2017</td>\n",
       "      <td>37</td>\n",
       "    </tr>\n",
       "    <tr>\n",
       "      <th>2014-01-07 22:48:08+00:00</th>\n",
       "      <td>Aberdeen</td>\n",
       "      <td>Scotland</td>\n",
       "      <td>AB25</td>\n",
       "      <td>2014-04-08 19:27:57+00:00</td>\n",
       "      <td>15-1132.00</td>\n",
       "      <td>2136</td>\n",
       "      <td>90.0</td>\n",
       "      <td>2014</td>\n",
       "      <td>15</td>\n",
       "    </tr>\n",
       "  </tbody>\n",
       "</table>\n",
       "</div>"
      ],
      "text/plain": [
       "                                city    region   zip  \\\n",
       "created                                                \n",
       "2014-12-10 12:36:33+00:00   Aberdeen  Scotland  AB25   \n",
       "2017-07-05 00:46:00+00:00     London   England  SW1A   \n",
       "2018-05-21 00:42:00+00:00        NaN       NaN   NaN   \n",
       "2017-11-02 19:51:00+00:00  Cambridge   England   NaN   \n",
       "2014-01-07 22:48:08+00:00   Aberdeen  Scotland  AB25   \n",
       "\n",
       "                                        delete_date onet_occupation_code  \\\n",
       "created                                                                    \n",
       "2014-12-10 12:36:33+00:00 2014-12-16 15:58:17+00:00           51-8013.00   \n",
       "2017-07-05 00:46:00+00:00 2017-09-24 13:03:55+00:00           37-2021.00   \n",
       "2018-05-21 00:42:00+00:00 2018-06-12 09:56:00+00:00           99-9999.00   \n",
       "2017-11-02 19:51:00+00:00 2017-12-09 02:56:58+00:00           37-2021.00   \n",
       "2014-01-07 22:48:08+00:00 2014-04-08 19:27:57+00:00           15-1132.00   \n",
       "\n",
       "                           SOC_occupation_code  t_delta  year onet_fam  \n",
       "created                                                                 \n",
       "2014-12-10 12:36:33+00:00                 8124      6.0  2014       51  \n",
       "2017-07-05 00:46:00+00:00                 6132     81.0  2017       37  \n",
       "2018-05-21 00:42:00+00:00                 9999     22.0  2018       99  \n",
       "2017-11-02 19:51:00+00:00                 6132     36.0  2017       37  \n",
       "2014-01-07 22:48:08+00:00                 2136     90.0  2014       15  "
      ]
     },
     "execution_count": 291,
     "metadata": {},
     "output_type": "execute_result"
    }
   ],
   "source": [
    "# public job listings (see onet_code_legend.csv) and associated company info (see soc_code_legend.csv)\n",
    "df1 = pd.read_csv('../Datasets/job_listings.csv', index_col=5, parse_dates=True) \n",
    "df1['delete_date'] = pd.to_datetime(df1['delete_date'])\n",
    "df1.drop(columns=['url', 'last_updated', 'last_checked', 'ticker_start_date', 'ticker_end_date',\n",
    "                 'title', 'company_name', 'stock_exchange_name', 'stock_exchange_country', 'stock_ticker'], inplace=True)\n",
    "# ADD MORE FEATURES\n",
    "df1['t_delta'] = (df1['delete_date'] - df1.index).dt.days # average difference between time posted and time deleted\n",
    "df1['year'] = df1.index.year\n",
    "df1['onet_fam'] = df1['onet_occupation_code'].str[:2]\n",
    "df1.head()"
   ]
  },
  {
   "cell_type": "code",
   "execution_count": 107,
   "metadata": {},
   "outputs": [],
   "source": [
    "df_regions = pd.DataFrame(df1['region'].unique(), columns=['region'])\n",
    "df_regions['loc'] = df_regions['region'].map(lambda x: get_coordinates(x))\n",
    "coord = df_regions['loc'].apply(pd.Series)\n",
    "df_regions = df_regions.join(coord)\n",
    "# df1 = df1.merge(df_regions, left_on='region', right_on='region', )"
   ]
  },
  {
   "cell_type": "code",
   "execution_count": 50,
   "metadata": {},
   "outputs": [],
   "source": [
    "def get_coordinates(region):\n",
    "    geolocator = Nominatim(user_agent=\"uk_explorer\", timeout=3)\n",
    "    location = geolocator.geocode(region)\n",
    "    return [location.latitude, location.longitude]\n"
   ]
  },
  {
   "cell_type": "code",
   "execution_count": 118,
   "metadata": {},
   "outputs": [
    {
     "data": {
      "text/html": [
       "<div>\n",
       "<style scoped>\n",
       "    .dataframe tbody tr th:only-of-type {\n",
       "        vertical-align: middle;\n",
       "    }\n",
       "\n",
       "    .dataframe tbody tr th {\n",
       "        vertical-align: top;\n",
       "    }\n",
       "\n",
       "    .dataframe thead th {\n",
       "        text-align: right;\n",
       "    }\n",
       "</style>\n",
       "<table border=\"1\" class=\"dataframe\">\n",
       "  <thead>\n",
       "    <tr style=\"text-align: right;\">\n",
       "      <th></th>\n",
       "      <th>region</th>\n",
       "      <th>loc</th>\n",
       "      <th>lat</th>\n",
       "      <th>lon</th>\n",
       "    </tr>\n",
       "  </thead>\n",
       "  <tbody>\n",
       "    <tr>\n",
       "      <th>0</th>\n",
       "      <td>Scotland</td>\n",
       "      <td>[56.7861112, -4.1140518]</td>\n",
       "      <td>56.786111</td>\n",
       "      <td>-4.114052</td>\n",
       "    </tr>\n",
       "    <tr>\n",
       "      <th>1</th>\n",
       "      <td>England</td>\n",
       "      <td>[52.7954791, -0.540240286617432]</td>\n",
       "      <td>52.795479</td>\n",
       "      <td>-0.540240</td>\n",
       "    </tr>\n",
       "    <tr>\n",
       "      <th>2</th>\n",
       "      <td>NaN</td>\n",
       "      <td>[34.220389, 70.3800314]</td>\n",
       "      <td>34.220389</td>\n",
       "      <td>70.380031</td>\n",
       "    </tr>\n",
       "    <tr>\n",
       "      <th>3</th>\n",
       "      <td>Northern Ireland</td>\n",
       "      <td>[54.6294982, -6.7654416]</td>\n",
       "      <td>54.629498</td>\n",
       "      <td>-6.765442</td>\n",
       "    </tr>\n",
       "    <tr>\n",
       "      <th>4</th>\n",
       "      <td>County Wicklow</td>\n",
       "      <td>[52.95814675, -6.38197070867766]</td>\n",
       "      <td>52.958147</td>\n",
       "      <td>-6.381971</td>\n",
       "    </tr>\n",
       "  </tbody>\n",
       "</table>\n",
       "</div>"
      ],
      "text/plain": [
       "             region                               loc        lat        lon\n",
       "0          Scotland          [56.7861112, -4.1140518]  56.786111  -4.114052\n",
       "1           England  [52.7954791, -0.540240286617432]  52.795479  -0.540240\n",
       "2               NaN           [34.220389, 70.3800314]  34.220389  70.380031\n",
       "3  Northern Ireland          [54.6294982, -6.7654416]  54.629498  -6.765442\n",
       "4    County Wicklow  [52.95814675, -6.38197070867766]  52.958147  -6.381971"
      ]
     },
     "execution_count": 118,
     "metadata": {},
     "output_type": "execute_result"
    }
   ],
   "source": [
    "df_regions.head()"
   ]
  },
  {
   "cell_type": "code",
   "execution_count": 112,
   "metadata": {},
   "outputs": [
    {
     "data": {
      "text/html": [
       "<div>\n",
       "<style scoped>\n",
       "    .dataframe tbody tr th:only-of-type {\n",
       "        vertical-align: middle;\n",
       "    }\n",
       "\n",
       "    .dataframe tbody tr th {\n",
       "        vertical-align: top;\n",
       "    }\n",
       "\n",
       "    .dataframe thead th {\n",
       "        text-align: right;\n",
       "    }\n",
       "</style>\n",
       "<table border=\"1\" class=\"dataframe\">\n",
       "  <thead>\n",
       "    <tr style=\"text-align: right;\">\n",
       "      <th></th>\n",
       "      <th>region</th>\n",
       "      <th>loc</th>\n",
       "      <th>lat</th>\n",
       "      <th>lon</th>\n",
       "    </tr>\n",
       "  </thead>\n",
       "  <tbody>\n",
       "    <tr>\n",
       "      <th>0</th>\n",
       "      <td>Scotland</td>\n",
       "      <td>[56.7861112, -4.1140518]</td>\n",
       "      <td>56.786111</td>\n",
       "      <td>-4.114052</td>\n",
       "    </tr>\n",
       "    <tr>\n",
       "      <th>1</th>\n",
       "      <td>England</td>\n",
       "      <td>[52.7954791, -0.540240286617432]</td>\n",
       "      <td>52.795479</td>\n",
       "      <td>-0.540240</td>\n",
       "    </tr>\n",
       "    <tr>\n",
       "      <th>2</th>\n",
       "      <td>NaN</td>\n",
       "      <td>[34.220389, 70.3800314]</td>\n",
       "      <td>34.220389</td>\n",
       "      <td>70.380031</td>\n",
       "    </tr>\n",
       "    <tr>\n",
       "      <th>3</th>\n",
       "      <td>Northern Ireland</td>\n",
       "      <td>[54.6294982, -6.7654416]</td>\n",
       "      <td>54.629498</td>\n",
       "      <td>-6.765442</td>\n",
       "    </tr>\n",
       "    <tr>\n",
       "      <th>4</th>\n",
       "      <td>County Wicklow</td>\n",
       "      <td>[52.95814675, -6.38197070867766]</td>\n",
       "      <td>52.958147</td>\n",
       "      <td>-6.381971</td>\n",
       "    </tr>\n",
       "  </tbody>\n",
       "</table>\n",
       "</div>"
      ],
      "text/plain": [
       "             region                               loc        lat        lon\n",
       "0          Scotland          [56.7861112, -4.1140518]  56.786111  -4.114052\n",
       "1           England  [52.7954791, -0.540240286617432]  52.795479  -0.540240\n",
       "2               NaN           [34.220389, 70.3800314]  34.220389  70.380031\n",
       "3  Northern Ireland          [54.6294982, -6.7654416]  54.629498  -6.765442\n",
       "4    County Wicklow  [52.95814675, -6.38197070867766]  52.958147  -6.381971"
      ]
     },
     "execution_count": 112,
     "metadata": {},
     "output_type": "execute_result"
    }
   ],
   "source": [
    "df_regions.columns = ['region', 'loc', 'lat', 'lon']\n",
    "df_regions.head()"
   ]
  },
  {
   "cell_type": "code",
   "execution_count": 163,
   "metadata": {},
   "outputs": [
    {
     "data": {
      "text/plain": [
       "England                   7.019488e-01\n",
       "Scotland                  5.658677e-02\n",
       "Wales                     3.827307e-02\n",
       "Northern Ireland          1.140980e-02\n",
       "County Cork               7.980110e-03\n",
       "County Limerick           2.681430e-03\n",
       "County Galway             2.574588e-03\n",
       "Cill Dara                 7.916672e-04\n",
       "County Donegal            4.136406e-04\n",
       "County Wicklow            1.435685e-04\n",
       "County Mayo               9.756724e-05\n",
       "County Louth/Meath        8.680887e-05\n",
       "County Offaly             8.384105e-05\n",
       "Kilkenny                  5.861454e-05\n",
       "County Cavan              7.048584e-06\n",
       "County Laois              5.564671e-06\n",
       "County Kerry              3.338803e-06\n",
       "Sør-Trøndelag Fylke       2.225869e-06\n",
       "Lesser Poland Province    2.225869e-06\n",
       "County Wexford            1.854890e-06\n",
       "State of Uttar Pradesh    7.419562e-07\n",
       "Oulu Province             3.709781e-07\n",
       "Name: region, dtype: float64"
      ]
     },
     "execution_count": 163,
     "metadata": {},
     "output_type": "execute_result"
    }
   ],
   "source": [
    "df1['region'].value_counts()/df1.shape[0]"
   ]
  },
  {
   "cell_type": "code",
   "execution_count": 197,
   "metadata": {},
   "outputs": [
    {
     "data": {
      "text/plain": [
       "8426"
      ]
     },
     "execution_count": 197,
     "metadata": {},
     "output_type": "execute_result"
    }
   ],
   "source": [
    "sum(df2.iloc[4:16, 1])"
   ]
  },
  {
   "cell_type": "code",
   "execution_count": 202,
   "metadata": {},
   "outputs": [
    {
     "data": {
      "text/plain": [
       "array(['England', 'Wales', 'Scotland', 'Northern Ireland', 'County Cork',\n",
       "       'County Galway', 'County Limerick', 'County Donegal', 'Cill Dara',\n",
       "       'County Wicklow', 'County Louth/Meath', 'Kilkenny',\n",
       "       'County Offaly', 'County Mayo', 'County Laois', 'County Cavan',\n",
       "       'County Wexford', 'Ireland'], dtype=object)"
      ]
     },
     "execution_count": 202,
     "metadata": {},
     "output_type": "execute_result"
    }
   ],
   "source": [
    "df2['region'].values"
   ]
  },
  {
   "cell_type": "code",
   "execution_count": 227,
   "metadata": {
    "scrolled": false
   },
   "outputs": [
    {
     "data": {
      "text/html": [
       "<div>\n",
       "<style scoped>\n",
       "    .dataframe tbody tr th:only-of-type {\n",
       "        vertical-align: middle;\n",
       "    }\n",
       "\n",
       "    .dataframe tbody tr th {\n",
       "        vertical-align: top;\n",
       "    }\n",
       "\n",
       "    .dataframe thead th {\n",
       "        text-align: right;\n",
       "    }\n",
       "</style>\n",
       "<table border=\"1\" class=\"dataframe\">\n",
       "  <thead>\n",
       "    <tr style=\"text-align: right;\">\n",
       "      <th></th>\n",
       "      <th>region</th>\n",
       "      <th>counts</th>\n",
       "      <th>loc</th>\n",
       "      <th>lat</th>\n",
       "      <th>lon</th>\n",
       "      <th>percent</th>\n",
       "      <th>pop</th>\n",
       "    </tr>\n",
       "  </thead>\n",
       "  <tbody>\n",
       "    <tr>\n",
       "      <th>0</th>\n",
       "      <td>England</td>\n",
       "      <td>389291</td>\n",
       "      <td>[52.7954791, -0.540240286617432]</td>\n",
       "      <td>52.795479</td>\n",
       "      <td>-0.540240</td>\n",
       "      <td>0.760589</td>\n",
       "      <td>55300000.0</td>\n",
       "    </tr>\n",
       "    <tr>\n",
       "      <th>1</th>\n",
       "      <td>Wales</td>\n",
       "      <td>31461</td>\n",
       "      <td>[52.2928116, -3.73893]</td>\n",
       "      <td>52.292812</td>\n",
       "      <td>-3.738930</td>\n",
       "      <td>0.629477</td>\n",
       "      <td>5400000.0</td>\n",
       "    </tr>\n",
       "    <tr>\n",
       "      <th>2</th>\n",
       "      <td>Scotland</td>\n",
       "      <td>28692</td>\n",
       "      <td>[56.7861112, -4.1140518]</td>\n",
       "      <td>56.786111</td>\n",
       "      <td>-4.114052</td>\n",
       "      <td>1.000000</td>\n",
       "      <td>3100000.0</td>\n",
       "    </tr>\n",
       "    <tr>\n",
       "      <th>3</th>\n",
       "      <td>Northern Ireland</td>\n",
       "      <td>7450</td>\n",
       "      <td>[54.6294982, -6.7654416]</td>\n",
       "      <td>54.629498</td>\n",
       "      <td>-6.765442</td>\n",
       "      <td>0.447182</td>\n",
       "      <td>1800000.0</td>\n",
       "    </tr>\n",
       "    <tr>\n",
       "      <th>17</th>\n",
       "      <td>Ireland</td>\n",
       "      <td>8426</td>\n",
       "      <td>NaN</td>\n",
       "      <td>53.142400</td>\n",
       "      <td>7.692100</td>\n",
       "      <td>0.191659</td>\n",
       "      <td>4750000.0</td>\n",
       "    </tr>\n",
       "  </tbody>\n",
       "</table>\n",
       "</div>"
      ],
      "text/plain": [
       "              region  counts                               loc        lat  \\\n",
       "0            England  389291  [52.7954791, -0.540240286617432]  52.795479   \n",
       "1              Wales   31461            [52.2928116, -3.73893]  52.292812   \n",
       "2           Scotland   28692          [56.7861112, -4.1140518]  56.786111   \n",
       "3   Northern Ireland    7450          [54.6294982, -6.7654416]  54.629498   \n",
       "17           Ireland    8426                               NaN  53.142400   \n",
       "\n",
       "         lon   percent         pop  \n",
       "0  -0.540240  0.760589  55300000.0  \n",
       "1  -3.738930  0.629477   5400000.0  \n",
       "2  -4.114052  1.000000   3100000.0  \n",
       "3  -6.765442  0.447182   1800000.0  \n",
       "17  7.692100  0.191659   4750000.0  "
      ]
     },
     "execution_count": 227,
     "metadata": {},
     "output_type": "execute_result"
    }
   ],
   "source": [
    "# tot_listing_region = pd.DataFrame(df1.groupby(by='year')['region'].value_counts()) #, columns=['counts'])\n",
    "# df2 = pd.DataFrame(df1['region'].value_counts()).reset_index()\n",
    "df2 = pd.DataFrame(df1[df1['year']==2018]['region'].value_counts()).reset_index()\n",
    "df2.columns = ['region', 'counts']\n",
    "df2 = df2.merge(df_regions, left_on='region', right_on='region')\n",
    "df2 = df2.append({'region':'Ireland', \n",
    "                  'counts':sum(df2.iloc[4:16, 1]),\n",
    "                  'percent': 0, \n",
    "                  'lat':53.1424, 'lon':7.6921}, ignore_index=True)\n",
    "to_drop = ['County Cork', 'County Galway', \n",
    "           'County Limerick', 'County Donegal', \n",
    "           'Cill Dara', 'County Wicklow', 'County Louth/Meath', \n",
    "           'Kilkenny', 'County Offaly', 'County Mayo', 'County Laois', 'County Cavan', 'County Wexford']\n",
    "df2 = df2[~df2['region'].isin(to_drop)]\n",
    "df2['pop'] = [55.3e6, 5.4e6, 3.1e6, 1.8e6, 4.75e6]\n",
    "df2['percent'] = df2['counts']/df2['pop']\n",
    "df2['percent'] = df2['percent']/max(df2['percent'])\n",
    "df2"
   ]
  },
  {
   "cell_type": "code",
   "execution_count": 226,
   "metadata": {},
   "outputs": [
    {
     "data": {
      "text/html": [
       "<div>\n",
       "<style scoped>\n",
       "    .dataframe tbody tr th:only-of-type {\n",
       "        vertical-align: middle;\n",
       "    }\n",
       "\n",
       "    .dataframe tbody tr th {\n",
       "        vertical-align: top;\n",
       "    }\n",
       "\n",
       "    .dataframe thead th {\n",
       "        text-align: right;\n",
       "    }\n",
       "</style>\n",
       "<table border=\"1\" class=\"dataframe\">\n",
       "  <thead>\n",
       "    <tr style=\"text-align: right;\">\n",
       "      <th></th>\n",
       "      <th>region</th>\n",
       "      <th>counts</th>\n",
       "      <th>loc</th>\n",
       "      <th>lat</th>\n",
       "      <th>lon</th>\n",
       "      <th>percent</th>\n",
       "    </tr>\n",
       "  </thead>\n",
       "  <tbody>\n",
       "    <tr>\n",
       "      <th>0</th>\n",
       "      <td>England</td>\n",
       "      <td>78538</td>\n",
       "      <td>[52.7954791, -0.540240286617432]</td>\n",
       "      <td>52.795479</td>\n",
       "      <td>-0.540240</td>\n",
       "      <td>NaN</td>\n",
       "    </tr>\n",
       "    <tr>\n",
       "      <th>1</th>\n",
       "      <td>Scotland</td>\n",
       "      <td>6901</td>\n",
       "      <td>[56.7861112, -4.1140518]</td>\n",
       "      <td>56.786111</td>\n",
       "      <td>-4.114052</td>\n",
       "      <td>NaN</td>\n",
       "    </tr>\n",
       "    <tr>\n",
       "      <th>2</th>\n",
       "      <td>Wales</td>\n",
       "      <td>1727</td>\n",
       "      <td>[52.2928116, -3.73893]</td>\n",
       "      <td>52.292812</td>\n",
       "      <td>-3.738930</td>\n",
       "      <td>NaN</td>\n",
       "    </tr>\n",
       "    <tr>\n",
       "      <th>3</th>\n",
       "      <td>County Cork</td>\n",
       "      <td>1230</td>\n",
       "      <td>[51.91750415, -8.58599221377425]</td>\n",
       "      <td>51.917504</td>\n",
       "      <td>-8.585992</td>\n",
       "      <td>NaN</td>\n",
       "    </tr>\n",
       "    <tr>\n",
       "      <th>4</th>\n",
       "      <td>Northern Ireland</td>\n",
       "      <td>1125</td>\n",
       "      <td>[54.6294982, -6.7654416]</td>\n",
       "      <td>54.629498</td>\n",
       "      <td>-6.765442</td>\n",
       "      <td>NaN</td>\n",
       "    </tr>\n",
       "    <tr>\n",
       "      <th>5</th>\n",
       "      <td>County Galway</td>\n",
       "      <td>437</td>\n",
       "      <td>[53.34347575, -8.87336798602502]</td>\n",
       "      <td>53.343476</td>\n",
       "      <td>-8.873368</td>\n",
       "      <td>NaN</td>\n",
       "    </tr>\n",
       "    <tr>\n",
       "      <th>6</th>\n",
       "      <td>County Limerick</td>\n",
       "      <td>374</td>\n",
       "      <td>[52.51872675, -8.79584719226076]</td>\n",
       "      <td>52.518727</td>\n",
       "      <td>-8.795847</td>\n",
       "      <td>NaN</td>\n",
       "    </tr>\n",
       "    <tr>\n",
       "      <th>7</th>\n",
       "      <td>Cill Dara</td>\n",
       "      <td>155</td>\n",
       "      <td>[53.15436455, -6.81841756609764]</td>\n",
       "      <td>53.154365</td>\n",
       "      <td>-6.818418</td>\n",
       "      <td>NaN</td>\n",
       "    </tr>\n",
       "    <tr>\n",
       "      <th>8</th>\n",
       "      <td>County Donegal</td>\n",
       "      <td>15</td>\n",
       "      <td>[54.92075415, -7.95238521465131]</td>\n",
       "      <td>54.920754</td>\n",
       "      <td>-7.952385</td>\n",
       "      <td>NaN</td>\n",
       "    </tr>\n",
       "    <tr>\n",
       "      <th>9</th>\n",
       "      <td>County Offaly</td>\n",
       "      <td>8</td>\n",
       "      <td>[53.1361633, -7.81030187385574]</td>\n",
       "      <td>53.136163</td>\n",
       "      <td>-7.810302</td>\n",
       "      <td>NaN</td>\n",
       "    </tr>\n",
       "    <tr>\n",
       "      <th>10</th>\n",
       "      <td>County Mayo</td>\n",
       "      <td>5</td>\n",
       "      <td>[53.9087056, -9.29830486365426]</td>\n",
       "      <td>53.908706</td>\n",
       "      <td>-9.298305</td>\n",
       "      <td>NaN</td>\n",
       "    </tr>\n",
       "    <tr>\n",
       "      <th>11</th>\n",
       "      <td>Sør-Trøndelag Fylke</td>\n",
       "      <td>5</td>\n",
       "      <td>[64.3451806, 10.4161558706247]</td>\n",
       "      <td>64.345181</td>\n",
       "      <td>10.416156</td>\n",
       "      <td>NaN</td>\n",
       "    </tr>\n",
       "    <tr>\n",
       "      <th>12</th>\n",
       "      <td>County Louth/Meath</td>\n",
       "      <td>3</td>\n",
       "      <td>[53.7169947, -6.3475612]</td>\n",
       "      <td>53.716995</td>\n",
       "      <td>-6.347561</td>\n",
       "      <td>NaN</td>\n",
       "    </tr>\n",
       "    <tr>\n",
       "      <th>13</th>\n",
       "      <td>State of Uttar Pradesh</td>\n",
       "      <td>2</td>\n",
       "      <td>[27.1303344, 80.859666]</td>\n",
       "      <td>27.130334</td>\n",
       "      <td>80.859666</td>\n",
       "      <td>NaN</td>\n",
       "    </tr>\n",
       "    <tr>\n",
       "      <th>14</th>\n",
       "      <td>Oulu Province</td>\n",
       "      <td>1</td>\n",
       "      <td>[65.0118734, 25.4716809]</td>\n",
       "      <td>65.011873</td>\n",
       "      <td>25.471681</td>\n",
       "      <td>NaN</td>\n",
       "    </tr>\n",
       "    <tr>\n",
       "      <th>15</th>\n",
       "      <td>Ireland</td>\n",
       "      <td>2130</td>\n",
       "      <td>NaN</td>\n",
       "      <td>53.142400</td>\n",
       "      <td>-7.692100</td>\n",
       "      <td>0.0</td>\n",
       "    </tr>\n",
       "  </tbody>\n",
       "</table>\n",
       "</div>"
      ],
      "text/plain": [
       "                    region  counts                               loc  \\\n",
       "0                  England   78538  [52.7954791, -0.540240286617432]   \n",
       "1                 Scotland    6901          [56.7861112, -4.1140518]   \n",
       "2                    Wales    1727            [52.2928116, -3.73893]   \n",
       "3              County Cork    1230  [51.91750415, -8.58599221377425]   \n",
       "4         Northern Ireland    1125          [54.6294982, -6.7654416]   \n",
       "5            County Galway     437  [53.34347575, -8.87336798602502]   \n",
       "6          County Limerick     374  [52.51872675, -8.79584719226076]   \n",
       "7                Cill Dara     155  [53.15436455, -6.81841756609764]   \n",
       "8           County Donegal      15  [54.92075415, -7.95238521465131]   \n",
       "9            County Offaly       8   [53.1361633, -7.81030187385574]   \n",
       "10             County Mayo       5   [53.9087056, -9.29830486365426]   \n",
       "11     Sør-Trøndelag Fylke       5    [64.3451806, 10.4161558706247]   \n",
       "12      County Louth/Meath       3          [53.7169947, -6.3475612]   \n",
       "13  State of Uttar Pradesh       2           [27.1303344, 80.859666]   \n",
       "14           Oulu Province       1          [65.0118734, 25.4716809]   \n",
       "15                 Ireland    2130                               NaN   \n",
       "\n",
       "          lat        lon  percent  \n",
       "0   52.795479  -0.540240      NaN  \n",
       "1   56.786111  -4.114052      NaN  \n",
       "2   52.292812  -3.738930      NaN  \n",
       "3   51.917504  -8.585992      NaN  \n",
       "4   54.629498  -6.765442      NaN  \n",
       "5   53.343476  -8.873368      NaN  \n",
       "6   52.518727  -8.795847      NaN  \n",
       "7   53.154365  -6.818418      NaN  \n",
       "8   54.920754  -7.952385      NaN  \n",
       "9   53.136163  -7.810302      NaN  \n",
       "10  53.908706  -9.298305      NaN  \n",
       "11  64.345181  10.416156      NaN  \n",
       "12  53.716995  -6.347561      NaN  \n",
       "13  27.130334  80.859666      NaN  \n",
       "14  65.011873  25.471681      NaN  \n",
       "15  53.142400  -7.692100      0.0  "
      ]
     },
     "execution_count": 226,
     "metadata": {},
     "output_type": "execute_result"
    }
   ],
   "source": [
    "df2 = pd.DataFrame(df1[df1['year']==year]['region'].value_counts()).reset_index()\n",
    "df2.columns = ['region', 'counts']\n",
    "df2 = df2.merge(df_regions, left_on='region', right_on='region')\n",
    "df2 = df2.append({'region':'Ireland', \n",
    "                  'counts':sum(df2.iloc[4:16, 1]),\n",
    "                  'percent': 0, \n",
    "                 'lat':53.1424, 'lon':-7.6921}, ignore_index=True)\n",
    "df2"
   ]
  },
  {
   "cell_type": "markdown",
   "metadata": {},
   "source": [
    "Create a map showing changes in job listings in different UK cities from 2009 to 2019"
   ]
  },
  {
   "cell_type": "code",
   "execution_count": 286,
   "metadata": {},
   "outputs": [
    {
     "data": {
      "text/html": [
       "<div style=\"width:100%;\"><div style=\"position:relative;width:100%;height:0;padding-bottom:60%;\"><iframe src=\"data:text/html;charset=utf-8;base64,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\" style=\"position:absolute;width:100%;height:100%;left:0;top:0;border:none !important;\" allowfullscreen webkitallowfullscreen mozallowfullscreen></iframe></div></div>"
      ],
      "text/plain": [
       "<folium.folium.Map at 0x2b314e610990>"
      ]
     },
     "execution_count": 286,
     "metadata": {},
     "output_type": "execute_result"
    }
   ],
   "source": [
    "year = 2013\n",
    "to_keep = ['England', 'Wales', 'Scotland', 'Northern Ireland', 'Ireland']\n",
    "\n",
    "# tot_listing_region = pd.DataFrame(df1.groupby(by='year')['region'].value_counts()) #, columns=['counts'])\n",
    "# df2 = pd.DataFrame(df1['region'].value_counts()).reset_index()\n",
    "df2 = pd.DataFrame(df1[df1['year']==year]['region'].value_counts()).reset_index()\n",
    "df2.columns = ['region', 'counts']\n",
    "df2 = df2.merge(df_regions, left_on='region', right_on='region')\n",
    "df2 = df2.append({'region':'Ireland', \n",
    "                  'counts':sum(df2[~df2['region'].isin(to_keep)]['counts']),\n",
    "                  'percent': 0, \n",
    "                  'lat':53.1424, 'lon':-7.6921}, ignore_index=True)\n",
    "df2 = df2[df2['region'].isin(to_keep)].reset_index()\n",
    "df2['pop'] = [55.3e6, 5.4e6, 3.1e6, 1.8e6, 4.75e6]\n",
    "df2['percent'] = df2['counts']/df2['pop']\n",
    "# df2['percent'] = df2['counts']/sum(df2['counts'])\n",
    "df2['percent'] = df2['percent']/max(df2['percent'])\n",
    "\n",
    "# create map of New York using latitude and longitude values\n",
    "colors = []\n",
    "cmap = cm.get_cmap('tab10', 10)    # PiYG\n",
    "for i in range(cmap.N):\n",
    "    rgb = cmap(i)[:3] # will return rgba, we take only first 3 so we get rgb\n",
    "    colors.append(matplotlib.colors.rgb2hex(rgb))\n",
    "\n",
    "uk_lat = 54.5\n",
    "uk_lng = -3\n",
    "map_uk = folium.Map(location=[uk_lat, uk_lng], zoom_start=5.5)\n",
    "\n",
    "# show neighborhoods\n",
    "for lat, lng, region, counts, percent in zip(df2['lat'], df2['lon'], df2['region'], df2['counts'], df2['percent']):\n",
    "    label = '{} (Total: {})'.format(region, counts)\n",
    "    label = folium.Popup(label, parse_html=True)\n",
    "    folium.CircleMarker(\n",
    "        [lat, lng],\n",
    "        radius=percent*30,\n",
    "        popup=label,\n",
    "        fill=True,\n",
    "        fill_opacity=0.7,\n",
    "        parse_html=False).add_to(map_uk)  \n",
    "\n",
    "map_uk"
   ]
  },
  {
   "cell_type": "code",
   "execution_count": 288,
   "metadata": {},
   "outputs": [
    {
     "data": {
      "text/html": [
       "<div style=\"width:100%;\"><div style=\"position:relative;width:100%;height:0;padding-bottom:60%;\"><iframe src=\"data:text/html;charset=utf-8;base64,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\" style=\"position:absolute;width:100%;height:100%;left:0;top:0;border:none !important;\" allowfullscreen webkitallowfullscreen mozallowfullscreen></iframe></div></div>"
      ],
      "text/plain": [
       "<folium.folium.Map at 0x2b314e526b90>"
      ]
     },
     "execution_count": 288,
     "metadata": {},
     "output_type": "execute_result"
    }
   ],
   "source": [
    "year = 2015\n",
    "to_keep = ['England', 'Wales', 'Scotland', 'Northern Ireland', 'Ireland']\n",
    "\n",
    "# tot_listing_region = pd.DataFrame(df1.groupby(by='year')['region'].value_counts()) #, columns=['counts'])\n",
    "# df2 = pd.DataFrame(df1['region'].value_counts()).reset_index()\n",
    "df2 = pd.DataFrame(df1[df1['year']==year]['region'].value_counts()).reset_index()\n",
    "df2.columns = ['region', 'counts']\n",
    "df2 = df2.merge(df_regions, left_on='region', right_on='region')\n",
    "df2 = df2.append({'region':'Ireland', \n",
    "                  'counts':sum(df2[~df2['region'].isin(to_keep)]['counts']),\n",
    "                  'percent': 0, \n",
    "                  'lat':53.1424, 'lon':-7.6921}, ignore_index=True)\n",
    "df2 = df2[df2['region'].isin(to_keep)].reset_index()\n",
    "df2['pop'] = [55.3e6, 5.4e6, 3.1e6, 1.8e6, 4.75e6]\n",
    "df2['percent'] = df2['counts']/df2['pop']\n",
    "# df2['percent'] = df2['counts']/sum(df2['counts'])\n",
    "df2['percent'] = df2['percent']/max(df2['percent'])\n",
    "\n",
    "# create map of New York using latitude and longitude values\n",
    "colors = []\n",
    "cmap = cm.get_cmap('tab10', 10)    # PiYG\n",
    "for i in range(cmap.N):\n",
    "    rgb = cmap(i)[:3] # will return rgba, we take only first 3 so we get rgb\n",
    "    colors.append(matplotlib.colors.rgb2hex(rgb))\n",
    "\n",
    "uk_lat = 54.5\n",
    "uk_lng = -3\n",
    "map_uk = folium.Map(location=[uk_lat, uk_lng], zoom_start=5.5)\n",
    "\n",
    "# show neighborhoods\n",
    "for lat, lng, region, counts, percent in zip(df2['lat'], df2['lon'], df2['region'], df2['counts'], df2['percent']):\n",
    "    label = '{} (Total: {})'.format(region, counts)\n",
    "    label = folium.Popup(label, parse_html=True)\n",
    "    folium.CircleMarker(\n",
    "        [lat, lng],\n",
    "        radius=percent*30,\n",
    "        popup=label,\n",
    "        fill=True,\n",
    "        fill_opacity=0.7,\n",
    "        parse_html=False).add_to(map_uk)  \n",
    "\n",
    "map_uk"
   ]
  },
  {
   "cell_type": "code",
   "execution_count": 285,
   "metadata": {},
   "outputs": [
    {
     "data": {
      "text/html": [
       "<div style=\"width:100%;\"><div style=\"position:relative;width:100%;height:0;padding-bottom:60%;\"><iframe src=\"data:text/html;charset=utf-8;base64,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\" style=\"position:absolute;width:100%;height:100%;left:0;top:0;border:none !important;\" allowfullscreen webkitallowfullscreen mozallowfullscreen></iframe></div></div>"
      ],
      "text/plain": [
       "<folium.folium.Map at 0x2b314e48d050>"
      ]
     },
     "execution_count": 285,
     "metadata": {},
     "output_type": "execute_result"
    }
   ],
   "source": [
    "year = 2017\n",
    "to_keep = ['England', 'Wales', 'Scotland', 'Northern Ireland', 'Ireland']\n",
    "\n",
    "# tot_listing_region = pd.DataFrame(df1.groupby(by='year')['region'].value_counts()) #, columns=['counts'])\n",
    "# df2 = pd.DataFrame(df1['region'].value_counts()).reset_index()\n",
    "df2 = pd.DataFrame(df1[df1['year']==year]['region'].value_counts()).reset_index()\n",
    "df2.columns = ['region', 'counts']\n",
    "df2 = df2.merge(df_regions, left_on='region', right_on='region')\n",
    "df2 = df2.append({'region':'Ireland', \n",
    "                  'counts':sum(df2[~df2['region'].isin(to_keep)]['counts']),\n",
    "                  'percent': 0, \n",
    "                  'lat':53.1424, 'lon':-7.6921}, ignore_index=True)\n",
    "df2 = df2[df2['region'].isin(to_keep)].reset_index()\n",
    "df2['pop'] = [55.3e6, 5.4e6, 3.1e6, 1.8e6, 4.75e6]\n",
    "df2['percent'] = df2['counts']/df2['pop']\n",
    "# df2['percent'] = df2['counts']/sum(df2['counts'])\n",
    "df2['percent'] = df2['percent']/max(df2['percent'])\n",
    "\n",
    "# create map of New York using latitude and longitude values\n",
    "colors = []\n",
    "cmap = cm.get_cmap('tab10', 10)    # PiYG\n",
    "for i in range(cmap.N):\n",
    "    rgb = cmap(i)[:3] # will return rgba, we take only first 3 so we get rgb\n",
    "    colors.append(matplotlib.colors.rgb2hex(rgb))\n",
    "\n",
    "uk_lat = 54.5\n",
    "uk_lng = -3\n",
    "map_uk = folium.Map(location=[uk_lat, uk_lng], zoom_start=5.5)\n",
    "\n",
    "# show neighborhoods\n",
    "for lat, lng, region, counts, percent in zip(df2['lat'], df2['lon'], df2['region'], df2['counts'], df2['percent']):\n",
    "    label = '{} (Total: {})'.format(region, counts)\n",
    "    label = folium.Popup(label, parse_html=True)\n",
    "    folium.CircleMarker(\n",
    "        [lat, lng],\n",
    "        radius=percent*30,\n",
    "        popup=label,\n",
    "        fill=True,\n",
    "        fill_opacity=0.7,\n",
    "        parse_html=False).add_to(map_uk)  \n",
    "\n",
    "map_uk"
   ]
  },
  {
   "cell_type": "code",
   "execution_count": 290,
   "metadata": {},
   "outputs": [
    {
     "data": {
      "text/html": [
       "<div style=\"width:100%;\"><div style=\"position:relative;width:100%;height:0;padding-bottom:60%;\"><iframe src=\"data:text/html;charset=utf-8;base64,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\" style=\"position:absolute;width:100%;height:100%;left:0;top:0;border:none !important;\" allowfullscreen webkitallowfullscreen mozallowfullscreen></iframe></div></div>"
      ],
      "text/plain": [
       "<folium.folium.Map at 0x2b314e5e82d0>"
      ]
     },
     "execution_count": 290,
     "metadata": {},
     "output_type": "execute_result"
    }
   ],
   "source": [
    "year = 2019\n",
    "to_keep = ['England', 'Wales', 'Scotland', 'Northern Ireland', 'Ireland']\n",
    "\n",
    "# tot_listing_region = pd.DataFrame(df1.groupby(by='year')['region'].value_counts()) #, columns=['counts'])\n",
    "# df2 = pd.DataFrame(df1['region'].value_counts()).reset_index()\n",
    "df2 = pd.DataFrame(df1[df1['year']==year]['region'].value_counts()).reset_index()\n",
    "df2.columns = ['region', 'counts']\n",
    "df2 = df2.merge(df_regions, left_on='region', right_on='region')\n",
    "df2 = df2.append({'region':'Ireland', \n",
    "                  'counts':sum(df2[~df2['region'].isin(to_keep)]['counts']),\n",
    "                  'percent': 0, \n",
    "                  'lat':53.1424, 'lon':-7.6921}, ignore_index=True)\n",
    "df2 = df2[df2['region'].isin(to_keep)].reset_index()\n",
    "df2['pop'] = [55.3e6, 5.4e6, 3.1e6, 1.8e6, 4.75e6]\n",
    "df2['percent'] = df2['counts']/df2['pop']\n",
    "# df2['percent'] = df2['counts']/sum(df2['counts'])\n",
    "df2['percent'] = df2['percent']/max(df2['percent'])\n",
    "\n",
    "# create map of New York using latitude and longitude values\n",
    "colors = []\n",
    "cmap = cm.get_cmap('tab10', 10)    # PiYG\n",
    "for i in range(cmap.N):\n",
    "    rgb = cmap(i)[:3] # will return rgba, we take only first 3 so we get rgb\n",
    "    colors.append(matplotlib.colors.rgb2hex(rgb))\n",
    "\n",
    "uk_lat = 54.5\n",
    "uk_lng = -3\n",
    "map_uk = folium.Map(location=[uk_lat, uk_lng], zoom_start=5.5)\n",
    "\n",
    "# show neighborhoods\n",
    "for lat, lng, region, counts, percent in zip(df2['lat'], df2['lon'], df2['region'], df2['counts'], df2['percent']):\n",
    "    label = '{} (Total: {})'.format(region, counts)\n",
    "    label = folium.Popup(label, parse_html=True)\n",
    "    folium.CircleMarker(\n",
    "        [lat, lng],\n",
    "        radius=percent*30,\n",
    "        popup=label,\n",
    "        fill=True,\n",
    "        fill_opacity=0.7,\n",
    "        parse_html=False).add_to(map_uk)  \n",
    "\n",
    "map_uk"
   ]
  },
  {
   "cell_type": "markdown",
   "metadata": {},
   "source": [
    "TOP 20 JOB POSTINGS BY UK CITY"
   ]
  },
  {
   "cell_type": "code",
   "execution_count": 48,
   "metadata": {
    "scrolled": false
   },
   "outputs": [
    {
     "data": {
      "text/plain": [
       "<matplotlib.axes._subplots.AxesSubplot at 0x2b102424dcd0>"
      ]
     },
     "execution_count": 48,
     "metadata": {},
     "output_type": "execute_result"
    },
    {
     "data": {
      "image/png": "[encoded data removed]",
      "text/plain": [
       "<Figure size 432x288 with 1 Axes>"
      ]
     },
     "metadata": {
      "needs_background": "light"
     },
     "output_type": "display_data"
    }
   ],
   "source": [
    "# df1['city'].value_counts().hist()\n",
    "df1['city'].value_counts()[:20].plot.bar()"
   ]
  },
  {
   "cell_type": "markdown",
   "metadata": {},
   "source": [
    "Top 20 occupation groups"
   ]
  },
  {
   "cell_type": "code",
   "execution_count": null,
   "metadata": {},
   "outputs": [],
   "source": [
    "# define function to get venue information based on latitude and longitude\n",
    "def getCityVenues(names, radius=1000, limit=100):\n",
    "    venues_list = []\n",
    "    c = 1\n",
    "    for name in names:\n",
    "        # get latitude and longitudes of the city\n",
    "        address = name + ', CA'\n",
    "#         if c \n",
    "        print(str(c) + ': ' + address)\n",
    "        geolocator = Nominatim(user_agent=\"la_explorer\", timeout=3)\n",
    "        location = geolocator.geocode(address)\n",
    "        latitude = location.latitude\n",
    "        longitude = location.longitude\n",
    "\n",
    "        # make the API call\n",
    "        url = 'https://api.foursquare.com/v2/venues/explore?client_id={}&client_secret={}&v={}&ll={},{}&radius={}&limit={}'.format(\n",
    "            CLIENT_ID, \n",
    "            CLIENT_SECRET, \n",
    "            VERSION, \n",
    "            latitude, \n",
    "            longitude, \n",
    "            radius,\n",
    "            limit)\n",
    "        results = requests.get(url).json()[\"response\"]['groups'][0]['items']\n",
    "        \n",
    "        # add venue name, location, category, and city\n",
    "        venues_list.append([(\n",
    "            name,\n",
    "            latitude,\n",
    "            longitude,\n",
    "            v['venue']['name'],\n",
    "            v['venue']['location']['lat'],\n",
    "            v['venue']['location']['lng'],\n",
    "            v['venue']['categories'][0]['name']) for v in results])\n",
    "        \n",
    "        c += 1\n",
    "\n",
    "    la_venues = pd.DataFrame([item for venue_list in venues_list for item in venue_list])\n",
    "    la_venues.columns = ['City',\n",
    "                        'City latitude', \n",
    "                        'City longitude',\n",
    "                        'Venue',\n",
    "                        'Venue latitude',\n",
    "                        'Venue longitude',\n",
    "                        'Venue category']\n",
    "    return la_venues"
   ]
  },
  {
   "cell_type": "code",
   "execution_count": 297,
   "metadata": {},
   "outputs": [
    {
     "data": {
      "text/plain": [
       "<matplotlib.axes._subplots.AxesSubplot at 0x2b315c355750>"
      ]
     },
     "execution_count": 297,
     "metadata": {},
     "output_type": "execute_result"
    },
    {
     "data": {
      "image/png": "[encoded data removed]",
      "text/plain": [
       "<Figure size 432x288 with 1 Axes>"
      ]
     },
     "metadata": {
      "needs_background": "light"
     },
     "output_type": "display_data"
    }
   ],
   "source": [
    "df1.index.year.value_counts().sort_index().plot.bar()"
   ]
  },
  {
   "cell_type": "code",
   "execution_count": 5,
   "metadata": {
    "scrolled": true
   },
   "outputs": [
    {
     "data": {
      "image/png": "[encoded data removed]",
      "text/plain": [
       "<Figure size 432x288 with 1 Axes>"
      ]
     },
     "metadata": {
      "needs_background": "light"
     },
     "output_type": "display_data"
    }
   ],
   "source": [
    "# DISTRUBTION OF JOBS BY ONET OCCUPATION FAMILY\n",
    "df1['onet_fam'].value_counts().plot.bar();"
   ]
  },
  {
   "cell_type": "code",
   "execution_count": 266,
   "metadata": {},
   "outputs": [
    {
     "data": {
      "text/html": [
       "<div>\n",
       "<style scoped>\n",
       "    .dataframe tbody tr th:only-of-type {\n",
       "        vertical-align: middle;\n",
       "    }\n",
       "\n",
       "    .dataframe tbody tr th {\n",
       "        vertical-align: top;\n",
       "    }\n",
       "\n",
       "    .dataframe thead th {\n",
       "        text-align: right;\n",
       "    }\n",
       "</style>\n",
       "<table border=\"1\" class=\"dataframe\">\n",
       "  <thead>\n",
       "    <tr style=\"text-align: right;\">\n",
       "      <th></th>\n",
       "      <th>city</th>\n",
       "      <th>region</th>\n",
       "      <th>zip</th>\n",
       "      <th>delete_date</th>\n",
       "      <th>onet_occupation_code</th>\n",
       "      <th>SOC_occupation_code</th>\n",
       "      <th>t_delta</th>\n",
       "      <th>year</th>\n",
       "      <th>onet_fam</th>\n",
       "      <th>loc_x</th>\n",
       "      <th>loc_y</th>\n",
       "    </tr>\n",
       "  </thead>\n",
       "  <tbody>\n",
       "    <tr>\n",
       "      <th>0</th>\n",
       "      <td>Aberdeen</td>\n",
       "      <td>Scotland</td>\n",
       "      <td>AB25</td>\n",
       "      <td>2014-12-16 15:58:17+00:00</td>\n",
       "      <td>51-8013.00</td>\n",
       "      <td>8124</td>\n",
       "      <td>6.0</td>\n",
       "      <td>2014</td>\n",
       "      <td>51</td>\n",
       "      <td>[56.7861112, -4.1140518]</td>\n",
       "      <td>[56.7861112, -4.1140518]</td>\n",
       "    </tr>\n",
       "    <tr>\n",
       "      <th>1</th>\n",
       "      <td>Aberdeen</td>\n",
       "      <td>Scotland</td>\n",
       "      <td>AB25</td>\n",
       "      <td>2014-04-08 19:27:57+00:00</td>\n",
       "      <td>15-1132.00</td>\n",
       "      <td>2136</td>\n",
       "      <td>90.0</td>\n",
       "      <td>2014</td>\n",
       "      <td>15</td>\n",
       "      <td>[56.7861112, -4.1140518]</td>\n",
       "      <td>[56.7861112, -4.1140518]</td>\n",
       "    </tr>\n",
       "    <tr>\n",
       "      <th>2</th>\n",
       "      <td>Aberdeen</td>\n",
       "      <td>Scotland</td>\n",
       "      <td>AB25</td>\n",
       "      <td>2019-07-30 08:26:00+00:00</td>\n",
       "      <td>41-1012.00</td>\n",
       "      <td>6212</td>\n",
       "      <td>4.0</td>\n",
       "      <td>2019</td>\n",
       "      <td>41</td>\n",
       "      <td>[56.7861112, -4.1140518]</td>\n",
       "      <td>[56.7861112, -4.1140518]</td>\n",
       "    </tr>\n",
       "    <tr>\n",
       "      <th>3</th>\n",
       "      <td>Aberdeen</td>\n",
       "      <td>Scotland</td>\n",
       "      <td>AB25</td>\n",
       "      <td>2019-05-09 03:47:00+00:00</td>\n",
       "      <td>37-2021.00</td>\n",
       "      <td>6132</td>\n",
       "      <td>29.0</td>\n",
       "      <td>2019</td>\n",
       "      <td>37</td>\n",
       "      <td>[56.7861112, -4.1140518]</td>\n",
       "      <td>[56.7861112, -4.1140518]</td>\n",
       "    </tr>\n",
       "    <tr>\n",
       "      <th>4</th>\n",
       "      <td>Aberdeen</td>\n",
       "      <td>Scotland</td>\n",
       "      <td>AB25</td>\n",
       "      <td>2014-08-26 20:45:52+00:00</td>\n",
       "      <td>11-9041.00</td>\n",
       "      <td>2150</td>\n",
       "      <td>2.0</td>\n",
       "      <td>2014</td>\n",
       "      <td>11</td>\n",
       "      <td>[56.7861112, -4.1140518]</td>\n",
       "      <td>[56.7861112, -4.1140518]</td>\n",
       "    </tr>\n",
       "  </tbody>\n",
       "</table>\n",
       "</div>"
      ],
      "text/plain": [
       "       city    region   zip               delete_date onet_occupation_code  \\\n",
       "0  Aberdeen  Scotland  AB25 2014-12-16 15:58:17+00:00           51-8013.00   \n",
       "1  Aberdeen  Scotland  AB25 2014-04-08 19:27:57+00:00           15-1132.00   \n",
       "2  Aberdeen  Scotland  AB25 2019-07-30 08:26:00+00:00           41-1012.00   \n",
       "3  Aberdeen  Scotland  AB25 2019-05-09 03:47:00+00:00           37-2021.00   \n",
       "4  Aberdeen  Scotland  AB25 2014-08-26 20:45:52+00:00           11-9041.00   \n",
       "\n",
       "   SOC_occupation_code  t_delta  year onet_fam                     loc_x  \\\n",
       "0                 8124      6.0  2014       51  [56.7861112, -4.1140518]   \n",
       "1                 2136     90.0  2014       15  [56.7861112, -4.1140518]   \n",
       "2                 6212      4.0  2019       41  [56.7861112, -4.1140518]   \n",
       "3                 6132     29.0  2019       37  [56.7861112, -4.1140518]   \n",
       "4                 2150      2.0  2014       11  [56.7861112, -4.1140518]   \n",
       "\n",
       "                      loc_y  \n",
       "0  [56.7861112, -4.1140518]  \n",
       "1  [56.7861112, -4.1140518]  \n",
       "2  [56.7861112, -4.1140518]  \n",
       "3  [56.7861112, -4.1140518]  \n",
       "4  [56.7861112, -4.1140518]  "
      ]
     },
     "execution_count": 266,
     "metadata": {},
     "output_type": "execute_result"
    }
   ],
   "source": [
    "df1.head()"
   ]
  },
  {
   "cell_type": "code",
   "execution_count": null,
   "metadata": {},
   "outputs": [],
   "source": []
  },
  {
   "cell_type": "code",
   "execution_count": null,
   "metadata": {},
   "outputs": [],
   "source": []
  },
  {
   "cell_type": "code",
   "execution_count": null,
   "metadata": {},
   "outputs": [],
   "source": []
  },
  {
   "cell_type": "code",
   "execution_count": null,
   "metadata": {},
   "outputs": [],
   "source": []
  }
 ],
 "metadata": {
  "kernelspec": {
   "display_name": "Python [conda env:.conda-pandas] *",
   "language": "python",
   "name": "conda-env-.conda-pandas-py"
  },
  "language_info": {
   "codemirror_mode": {
    "name": "ipython",
    "version": 3
   },
   "file_extension": ".py",
   "mimetype": "text/x-python",
   "name": "python",
   "nbconvert_exporter": "python",
   "pygments_lexer": "ipython3",
   "version": "3.7.4"
  }
 },
 "nbformat": 4,
 "nbformat_minor": 2
}
